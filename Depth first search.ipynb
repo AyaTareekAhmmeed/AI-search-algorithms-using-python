{
 "cells": [
  {
   "cell_type": "raw",
   "id": "342aba84",
   "metadata": {},
   "source": [
    "Graph"
   ]
  },
  {
   "cell_type": "code",
   "execution_count": 1,
   "id": "0ed84cd7",
   "metadata": {},
   "outputs": [],
   "source": [
    "graph = {\n",
    "    'S':['B','D','A'],\n",
    "    'A':['C'],\n",
    "    'B':['D'],\n",
    "    'C':['G','D'],\n",
    "    'D':['G']\n",
    "}\n",
    "#'G':[]"
   ]
  },
  {
   "cell_type": "markdown",
   "id": "686f25db",
   "metadata": {},
   "source": [
    "Depth first search"
   ]
  },
  {
   "cell_type": "code",
   "execution_count": 7,
   "id": "6b64929e",
   "metadata": {},
   "outputs": [],
   "source": [
    "def dfs(graph, start, goal):\n",
    "    visited =[]\n",
    "    stack =[[start]] #stack for last in first out\n",
    "    while stack:\n",
    "        path = stack.pop() #no 0 for inserting from right\n",
    "        node = path[-1] #-1 for chicking on last node rememper list indexing\n",
    "        if node in visited:\n",
    "            continue\n",
    "        visited.append(node) #append node in visited list\n",
    "        if node ==goal:\n",
    "            return path #if i reash goal then all i need is to know the path\n",
    "        else:\n",
    "            adjacent_nodes = graph.get(node,[]) #want to make pathes out from nodes\n",
    "            for node2 in adjacent_nodes:\n",
    "                new_path = path.copy()\n",
    "                new_path.append(node2)\n",
    "                stack.append(new_path)"
   ]
  },
  {
   "cell_type": "code",
   "execution_count": 8,
   "id": "a277d463",
   "metadata": {},
   "outputs": [
    {
     "name": "stdout",
     "output_type": "stream",
     "text": [
      "Solution is  ['S', 'A', 'C', 'D', 'G']\n"
     ]
    }
   ],
   "source": [
    "solution = dfs(graph,'S','G')\n",
    "print('Solution is ', solution)"
   ]
  }
 ],
 "metadata": {
  "kernelspec": {
   "display_name": "Python 3",
   "language": "python",
   "name": "python3"
  },
  "language_info": {
   "codemirror_mode": {
    "name": "ipython",
    "version": 3
   },
   "file_extension": ".py",
   "mimetype": "text/x-python",
   "name": "python",
   "nbconvert_exporter": "python",
   "pygments_lexer": "ipython3",
   "version": "3.8.8"
  }
 },
 "nbformat": 4,
 "nbformat_minor": 5
}
