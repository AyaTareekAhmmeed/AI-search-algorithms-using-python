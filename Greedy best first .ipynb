{
 "cells": [
  {
   "cell_type": "markdown",
   "id": "f3bbc386",
   "metadata": {},
   "source": [
    "Graph"
   ]
  },
  {
   "cell_type": "code",
   "execution_count": 1,
   "id": "4b02c77e",
   "metadata": {},
   "outputs": [],
   "source": [
    "graph = {\n",
    "    'S':[('A',1),('B',4)],\n",
    "    'A':[('B',2),('C',4),('G',12)],\n",
    "    'B':[('C',2)],\n",
    "    'C':[('G',3)],\n",
    "}\n",
    "#Not onlyy chicking path but also look for cost\n",
    "#'G':[]\n",
    "\n",
    "H_table ={ \n",
    "    'S':7,\n",
    "    'A':6,\n",
    "    'B':4,\n",
    "    'C':2,\n",
    "    'G':0\n",
    "     \n",
    "}# H for huristic "
   ]
  },
  {
   "cell_type": "markdown",
   "id": "0c3e608a",
   "metadata": {},
   "source": [
    "Helper fnction(Path H_cost)"
   ]
  },
  {
   "cell_type": "code",
   "execution_count": 4,
   "id": "b116fada",
   "metadata": {},
   "outputs": [],
   "source": [
    "def path_h_cost(path):\n",
    "    g_cost =0 #initial cost = 0\n",
    "    for (node, cost) in path:\n",
    "        g_cost += cost #add cost of nodes to path\n",
    "    last_node = path[-1][0]\n",
    "    h_cost = H_table[last_node]\n",
    "    return h_cost , last_node #we  will sort queue items based on h_cost& if two items have thw same f_cost , then sort by node name"
   ]
  },
  {
   "cell_type": "markdown",
   "id": "fa5443cb",
   "metadata": {},
   "source": [
    "Testing H_cost function"
   ]
  },
  {
   "cell_type": "code",
   "execution_count": 5,
   "id": "f6419bfd",
   "metadata": {},
   "outputs": [
    {
     "name": "stdout",
     "output_type": "stream",
     "text": [
      "(2, 'C')\n"
     ]
    }
   ],
   "source": [
    "path = [('S',0),('A',1),('C',5)]\n",
    "print(path_h_cost(path))"
   ]
  },
  {
   "cell_type": "markdown",
   "id": "a831f955",
   "metadata": {},
   "source": [
    "Greedy best first function"
   ]
  },
  {
   "cell_type": "code",
   "execution_count": 6,
   "id": "bdb1fc42",
   "metadata": {},
   "outputs": [],
   "source": [
    "def greedy_best_search(graph, start, goal):\n",
    "    visited =[]\n",
    "    queue =[[(start,0)]] #queue for first in first out & 0 for cost of start node =0\n",
    "    while queue:\n",
    "        queue.sort(key=path_h_cost)#sorting by cost if 2 costs are the same then it sorts by alphabetic\n",
    "        path = queue.pop(0) #choosing least cost\n",
    "        node = path[-1][0] #-1 for chicking on last node rememper list indexing\n",
    "        if node in visited:\n",
    "            continue\n",
    "        visited.append(node) #append node in visited list\n",
    "        if node ==goal:\n",
    "            return path #if i reash goal then all i need is to know the path\n",
    "        else:\n",
    "            adjacent_nodes = graph.get(node,[]) #want to make pathes out from nodes\n",
    "            for node2 in adjacent_nodes:\n",
    "                new_path = path.copy()\n",
    "                new_path.append(node2)\n",
    "                queue.append(new_path)"
   ]
  },
  {
   "cell_type": "code",
   "execution_count": 7,
   "id": "ea07e412",
   "metadata": {},
   "outputs": [
    {
     "name": "stdout",
     "output_type": "stream",
     "text": [
      "Solution is  [('S', 0), ('B', 4), ('C', 2), ('G', 3)]\n",
      "cost of solution is (0, 'G')\n"
     ]
    }
   ],
   "source": [
    "solution = greedy_best_search(graph,'S','G')\n",
    "print('Solution is ', solution)\n",
    "print('cost of solution is',path_h_cost(solution))"
   ]
  }
 ],
 "metadata": {
  "kernelspec": {
   "display_name": "Python 3",
   "language": "python",
   "name": "python3"
  },
  "language_info": {
   "codemirror_mode": {
    "name": "ipython",
    "version": 3
   },
   "file_extension": ".py",
   "mimetype": "text/x-python",
   "name": "python",
   "nbconvert_exporter": "python",
   "pygments_lexer": "ipython3",
   "version": "3.8.8"
  }
 },
 "nbformat": 4,
 "nbformat_minor": 5
}
