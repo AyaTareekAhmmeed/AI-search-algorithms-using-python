{
 "cells": [
  {
   "cell_type": "markdown",
   "id": "911250f3",
   "metadata": {},
   "source": [
    "Graph"
   ]
  },
  {
   "cell_type": "code",
   "execution_count": 1,
   "id": "06c3e78e",
   "metadata": {},
   "outputs": [],
   "source": [
    "graph = {\n",
    "    'S':[('A',2),('B',3),('D',5)],\n",
    "    'A':[('C',4)],\n",
    "    'B':[('D',4)],\n",
    "    'C':[('D',1),('G',2)],\n",
    "    'D':[('G',5)]\n",
    "}\n",
    "#Not onlyy chicking path but also look for cost\n",
    "#'G':[]"
   ]
  },
  {
   "cell_type": "markdown",
   "id": "71053d99",
   "metadata": {},
   "source": [
    "Helper function (Path Cost)\n",
    "calculate total cost of path"
   ]
  },
  {
   "cell_type": "code",
   "execution_count": 5,
   "id": "78842883",
   "metadata": {},
   "outputs": [],
   "source": [
    "def path_cost(path):\n",
    "    total_cost =0 #initial cost = 0\n",
    "    for (node, cost) in path:\n",
    "        total_cost += cost #add cost of nodes to path\n",
    "    return total_cost , path[-1][0] "
   ]
  },
  {
   "cell_type": "markdown",
   "id": "a1b2c9bd",
   "metadata": {},
   "source": [
    "Testing cost function"
   ]
  },
  {
   "cell_type": "code",
   "execution_count": 6,
   "id": "2a2e9d18",
   "metadata": {},
   "outputs": [
    {
     "name": "stdout",
     "output_type": "stream",
     "text": [
      "(10, 'G')\n"
     ]
    }
   ],
   "source": [
    "path = [('S',0),('D',5),('G',5)]\n",
    "print(path_cost(path))"
   ]
  },
  {
   "cell_type": "markdown",
   "id": "cc3448cc",
   "metadata": {},
   "source": [
    "Uniform cost search"
   ]
  },
  {
   "cell_type": "code",
   "execution_count": 9,
   "id": "e931e530",
   "metadata": {},
   "outputs": [],
   "source": [
    "def ucs(graph, start, goal):\n",
    "    visited =[]\n",
    "    queue =[[(start,0)]] #queue for first in first out & 0 for cost of start node =0\n",
    "    while queue:\n",
    "        queue.sort(key=path_cost)#sorting by cost if 2 costs are the same then it sorts by alphabetic\n",
    "        path = queue.pop(0) #choosing least cost\n",
    "        node = path[-1][0] #-1 for chicking on last node rememper list indexing\n",
    "        if node in visited:\n",
    "            continue\n",
    "        visited.append(node) #append node in visited list\n",
    "        if node ==goal:\n",
    "            return path #if i reash goal then all i need is to know the path\n",
    "        else:\n",
    "            adjacent_nodes = graph.get(node,[]) #want to make pathes out from nodes\n",
    "            for node2 in adjacent_nodes:\n",
    "                new_path = path.copy()\n",
    "                new_path.append(node2)\n",
    "                queue.append(new_path)"
   ]
  },
  {
   "cell_type": "code",
   "execution_count": 12,
   "id": "16947943",
   "metadata": {},
   "outputs": [
    {
     "name": "stdout",
     "output_type": "stream",
     "text": [
      "Solution is  [('S', 0), ('A', 2), ('C', 4), ('G', 2)]\n",
      "cost of solution is (8, 'G')\n"
     ]
    }
   ],
   "source": [
    "solution = ucs(graph,'S','G')\n",
    "print('Solution is ', solution)\n",
    "print('cost of solution is',path_cost(solution)) #but solution in oath cost cuz it take path"
   ]
  }
 ],
 "metadata": {
  "kernelspec": {
   "display_name": "Python 3",
   "language": "python",
   "name": "python3"
  },
  "language_info": {
   "codemirror_mode": {
    "name": "ipython",
    "version": 3
   },
   "file_extension": ".py",
   "mimetype": "text/x-python",
   "name": "python",
   "nbconvert_exporter": "python",
   "pygments_lexer": "ipython3",
   "version": "3.8.8"
  }
 },
 "nbformat": 4,
 "nbformat_minor": 5
}
