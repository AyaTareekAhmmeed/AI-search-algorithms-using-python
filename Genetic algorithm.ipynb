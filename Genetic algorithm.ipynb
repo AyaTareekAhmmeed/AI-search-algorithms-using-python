{
 "cells": [
  {
   "cell_type": "markdown",
   "id": "5a2b3a70",
   "metadata": {},
   "source": [
    "Initial population"
   ]
  },
  {
   "cell_type": "code",
   "execution_count": 57,
   "id": "9a1aa1f8",
   "metadata": {},
   "outputs": [],
   "source": [
    "import numpy as np"
   ]
  },
  {
   "cell_type": "code",
   "execution_count": 58,
   "id": "02bd793a",
   "metadata": {},
   "outputs": [],
   "source": [
    "def init_pop(pop_size):\n",
    "    return np.random.randint(8, size=(pop_size,8))  #for returning some random integare num عدد العناصر ف كل صف 8 عناصر وعدد الصفوف هو السايز اللي انا هدخله"
   ]
  },
  {
   "cell_type": "code",
   "execution_count": 59,
   "id": "7ac6722f",
   "metadata": {},
   "outputs": [
    {
     "name": "stdout",
     "output_type": "stream",
     "text": [
      "[[5 2 3 4 5 1 0 1]\n",
      " [4 1 4 3 6 1 7 4]\n",
      " [2 1 7 7 2 5 1 7]\n",
      " [0 7 5 3 0 3 6 2]]\n"
     ]
    }
   ],
   "source": [
    "initial_population = init_pop(4)\n",
    "print(initial_population)"
   ]
  },
  {
   "cell_type": "markdown",
   "id": "e7162842",
   "metadata": {},
   "source": [
    "# Calculate fitness"
   ]
  },
  {
   "cell_type": "code",
   "execution_count": 60,
   "id": "1831ca05",
   "metadata": {},
   "outputs": [],
   "source": [
    "def calc_fitness(population):\n",
    "    fitness_vals = [] #list to save  fitness value in\n",
    "    for x in population:\n",
    "        penalty = 0 #penalty mean abelety to eat other queens 'the negative value of fitness' (large penalty = bad solution = low fitness)\n",
    "        for i in range(8): #range = 8 cuz i have 8 vae in each row\n",
    "            r = x[i] #important meanings '(r) is row of queen(i),(d) is the distance between column(i) and column (j)'\n",
    "            for j in range(8):\n",
    "                if i ==j:\n",
    "                    continue\n",
    "                d = abs(i-j) #distance = absolyet of i 'where queen stand' and j 'where i chick'\n",
    "                if x[j] in [r, r-d, r+d]: # if place of queen in r or r-d or r+d then add 1 to penalty\n",
    "                    penalty +=1\n",
    "        fitness_vals.append(penalty) #adding values of fitness to list 'fitness_vals'\n",
    "    return -1*np.array(fitness_vals) #now to return fitness i multiply penalty to -1 \n",
    "    "
   ]
  },
  {
   "cell_type": "markdown",
   "id": "049292e9",
   "metadata": {},
   "source": [
    "Checking fitness function"
   ]
  },
  {
   "cell_type": "code",
   "execution_count": 61,
   "id": "0e56a4cf",
   "metadata": {},
   "outputs": [
    {
     "name": "stdout",
     "output_type": "stream",
     "text": [
      "[[5 4 3 7 3 7 0 6]\n",
      " [0 2 0 5 7 3 4 1]\n",
      " [2 3 2 5 0 0 5 0]\n",
      " [0 6 3 4 6 2 2 1]]\n"
     ]
    }
   ],
   "source": [
    "initial_population = init_pop(4)\n",
    "print(initial_population)"
   ]
  },
  {
   "cell_type": "code",
   "execution_count": 62,
   "id": "085087be",
   "metadata": {},
   "outputs": [
    {
     "name": "stdout",
     "output_type": "stream",
     "text": [
      "[-12 -14 -22 -14]\n"
     ]
    }
   ],
   "source": [
    "fitness_vals = calc_fitness(initial_population)\n",
    "print(fitness_vals)"
   ]
  },
  {
   "cell_type": "markdown",
   "id": "8fc204e3",
   "metadata": {},
   "source": [
    "# Selection\n",
    "-in selection phase we  select N parents(N solution) that with higher fitness \n",
    "-Note selection is with replacement 'that means some parent can be selscted multipul times'"
   ]
  },
  {
   "cell_type": "code",
   "execution_count": 71,
   "id": "9483b647",
   "metadata": {},
   "outputs": [],
   "source": [
    "def selection(population, fitness_vals):\n",
    "    probs = fitness_vals.copy()\n",
    "    probs += abs(probs.min()) + 1 #عايز اعمل نسب مئويه لقياس الفيتنس ف بستخدم معادله ان كل قيمه اجمع عليها اقل قيمه +1 بحط الواحد عشان اضمن ان مفيش اي اصفار\n",
    "    probs = probs/probs.sum() #هنا بجيب احتمال كل واحد فيهم عن طريقه قسمه قيمته ع عدد القيم\n",
    "    N = len(population) #N must be even num  so i can apply crossover\n",
    "    indices = np.arange(N)\n",
    "    selected_indices = np.random.choice(indices, size=N, p=probs) #this is the probability to randomly select N parents\n",
    "    selected_population = population[selected_indices]\n",
    "    return selected_population"
   ]
  },
  {
   "cell_type": "code",
   "execution_count": 64,
   "id": "ef294c98",
   "metadata": {},
   "outputs": [
    {
     "name": "stdout",
     "output_type": "stream",
     "text": [
      "[[0 2 0 5 7 3 4 1]\n",
      " [0 6 3 4 6 2 2 1]\n",
      " [5 4 3 7 3 7 0 6]\n",
      " [5 4 3 7 3 7 0 6]]\n"
     ]
    }
   ],
   "source": [
    "selection = selection(initial_population,fitness_vals )\n",
    "print(selection)"
   ]
  },
  {
   "cell_type": "markdown",
   "id": "0eae595d",
   "metadata": {},
   "source": [
    "# Crossover\n",
    "-after selecting N parent we  apply crossover between each two parents\n",
    "-but sometimes crossover dosent happen cuz it depend on probability of random num"
   ]
  },
  {
   "cell_type": "code",
   "execution_count": 65,
   "id": "3264d450",
   "metadata": {},
   "outputs": [],
   "source": [
    "def crossover(parent1, parent2, pc): #cross over takes two selected parents and bring two childeren\n",
    "    r = np.random.random() #now i make random num between 0,1 to chick prop of crossover so i make it or no\n",
    "    if r <pc: #pc is probability of crossover\n",
    "        m = np.random.randint(1,8) #m is place where i make crossover 'stats from index 1 and end at 7'\n",
    "        child1 = np.concatenate([parent1[:m], parent2[m:]])\n",
    "        child2 = np.concatenate([parent2[:m], parent1[m:]])\n",
    "    else: #if r >pc teturn parents again into childeren\n",
    "        child1 = parent1.copy()\n",
    "        child2 = parent2.copy()\n",
    "    return child1, child2"
   ]
  },
  {
   "cell_type": "markdown",
   "id": "ba391882",
   "metadata": {},
   "source": [
    "Testing crossover function"
   ]
  },
  {
   "cell_type": "code",
   "execution_count": 66,
   "id": "13a62973",
   "metadata": {},
   "outputs": [],
   "source": [
    "#parent1 = selection[0]\n",
    "#parent2 = selection[1]\n",
    "#child1, child2 = crossover(parent1, parent2, pc=0.70)\n",
    "#print(parent1, '-->', child1)\n",
    "#print(parent2, '-->', child2)"
   ]
  },
  {
   "cell_type": "markdown",
   "id": "35219d66",
   "metadata": {},
   "source": [
    "# Mutation\n",
    "-randomly modify one value of an individual 'small probability'"
   ]
  },
  {
   "cell_type": "code",
   "execution_count": 67,
   "id": "bee7dc08",
   "metadata": {},
   "outputs": [],
   "source": [
    "def mutation(individual, pm):#mutation only take on child of crossover #pm is prbability of mutation\n",
    "    r = np.random.random() #just random value to chick probability of mutation\n",
    "    if r < pm:\n",
    "        m = np.random.randint(8) #here i choose random index\n",
    "        individual[m] = np.random.randint(8) #here i choose random num to but in choosing index\n",
    "    return individual"
   ]
  },
  {
   "cell_type": "markdown",
   "id": "8a4a13a5",
   "metadata": {},
   "source": [
    "# Applying crossover & mutation in one function"
   ]
  },
  {
   "cell_type": "code",
   "execution_count": 68,
   "id": "e34fe040",
   "metadata": {},
   "outputs": [],
   "source": [
    "def crossover_mutation(selected_pop , pc, pm):\n",
    "    N = len(selected_pop )\n",
    "    new_pop = np.empty((N,8), dtype=int)\n",
    "    for i in range (0,N,2): #step=2 cuz i have two parent in a time\n",
    "        parent1 = selected_pop[i]\n",
    "        parent2 = selected_pop[i+1]\n",
    "        child1, child2 = crossover(parent1, parent2, pc) #applying crossover on parents\n",
    "        new_pop[i] = child1  \n",
    "        new_pop[i+1] = child2\n",
    "    for i in range(N):\n",
    "        mutation(new_pop[i], pm) #applying mutation on childeren\n",
    "    return new_pop"
   ]
  },
  {
   "cell_type": "markdown",
   "id": "54ea7f78",
   "metadata": {},
   "source": [
    "# Putting it all together"
   ]
  },
  {
   "cell_type": "code",
   "execution_count": 72,
   "id": "0e3e743d",
   "metadata": {},
   "outputs": [],
   "source": [
    "def eight_queens(pop_size, max_generations, pc=0.7, pm=0.01):\n",
    "    population = init_pop(pop_size)\n",
    "    best_fitness_overall = None #hold best value of fitness in every generation untill reach 0\n",
    "    for i_gen in range(max_generations): #chicking tonreach best fitness\n",
    "        fitness_vals = calc_fitness(population)\n",
    "        best_i = fitness_vals.argmax() #return index of best fitness 'argmax is built in function retuen index of highest fitness '\n",
    "        best_fitness = fitness_vals[best_i] #here i store best fitness\n",
    "        if best_fitness_overall is None or best_fitness > best_fitness_overall: #to put best fitness into best fitness overall if i have better solution\n",
    "            best_fitness_overall = best_fitness\n",
    "            best_solution = population[best_i] #best population is when fitness =0\n",
    "        print(f'\\ri_gen ={i_gen:06}  -f={-best_fitness_overall:03}', end='')  #i_gen print into 6 indexs  and best_fitness_overall*- to get positive value of it and it printed in  3 indexes\n",
    "        if best_fitness ==0: #if i reach best solution'0 or ended without reach then then break and print solution you have\n",
    "            print('\\nFound optimal solution')\n",
    "            break\n",
    "        best_selection = selection(population, fitness_vals)\n",
    "        population = crossover_mutation(best_selection, pc, pm)\n",
    "    print()\n",
    "    print(best_solution)"
   ]
  },
  {
   "cell_type": "code",
   "execution_count": 75,
   "id": "53458f8f",
   "metadata": {},
   "outputs": [
    {
     "name": "stdout",
     "output_type": "stream",
     "text": [
      "i_gen =009999  -f=002\n",
      "[7 4 1 5 0 6 3 5]\n"
     ]
    }
   ],
   "source": [
    "eight_queens(pop_size = 100, max_generations = 10000, pc=0.7, pm=0.01)"
   ]
  }
 ],
 "metadata": {
  "kernelspec": {
   "display_name": "Python 3",
   "language": "python",
   "name": "python3"
  },
  "language_info": {
   "codemirror_mode": {
    "name": "ipython",
    "version": 3
   },
   "file_extension": ".py",
   "mimetype": "text/x-python",
   "name": "python",
   "nbconvert_exporter": "python",
   "pygments_lexer": "ipython3",
   "version": "3.8.8"
  }
 },
 "nbformat": 4,
 "nbformat_minor": 5
}
